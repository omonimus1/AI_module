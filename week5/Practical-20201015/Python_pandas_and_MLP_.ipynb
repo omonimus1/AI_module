{
  "nbformat": 4,
  "nbformat_minor": 0,
  "metadata": {
    "celltoolbar": "Nbtutor - export exercises",
    "kernelspec": {
      "display_name": "Python 3",
      "language": "python",
      "name": "python3"
    },
    "language_info": {
      "codemirror_mode": {
        "name": "ipython",
        "version": 3
      },
      "file_extension": ".py",
      "mimetype": "text/x-python",
      "name": "python",
      "nbconvert_exporter": "python",
      "pygments_lexer": "ipython3",
      "version": "3.7.4"
    },
    "nav_menu": {},
    "toc": {
      "navigate_menu": true,
      "number_sections": false,
      "sideBar": true,
      "threshold": 6,
      "toc_cell": false,
      "toc_section_display": "block",
      "toc_window_display": true
    },
    "colab": {
      "name": "Python_pandas_and_MLP.ipynb",
      "provenance": [],
      "collapsed_sections": [
        "CctA3tNLEFbx",
        "D7He14YrEFja"
      ],
      "toc_visible": true
    }
  },
  "cells": [
    {
      "cell_type": "markdown",
      "metadata": {
        "id": "HTWSd6X5EFbJ"
      },
      "source": [
        "This material has been adapted from the EuroScipy 2016 tutorial by Joris Van den Bossche<br>\n",
        "Source: <a href=\"https://github.com/jorisvandenbossche/pandas-tutorial\">https://github.com/jorisvandenbossche/pandas-tutorial</a>"
      ]
    },
    {
      "cell_type": "markdown",
      "metadata": {
        "id": "sqhW2fFtEFbM"
      },
      "source": [
        "<!--<img width=700px; src=\"../img/logoUPSayPlusCDS_990.png\"> -->\n",
        "\n",
        "<p style=\"margin-top: 3em; margin-bottom: 2em;\"><b><big><big><big><big>What is Pandas?</big></big></big></big></b></p>"
      ]
    },
    {
      "cell_type": "markdown",
      "metadata": {
        "id": "LNF5qEXREFbN"
      },
      "source": [
        "Pandas is an easy-to-use, very powerful library for data analysis. Like NumPy, it vectorises most of the basic operations and strives to excute multiple operations in parallel, even on a single CPU, resulting in faster computation.<br>\n",
        "To use the pandas library and its data structures, all you have to do is to install it and import it. Refer to the documentation of the Pandas library for further details and guidance.<br>\n",
        "https://pandas.pydata.org/"
      ]
    },
    {
      "cell_type": "markdown",
      "metadata": {
        "id": "He_QMUhhOnO4"
      },
      "source": [
        "## Google Colab instructions to load datasets\n",
        "You first need to upload your datasets into your google drive.<br>\n",
        "Then mount this folder.<br> \n",
        "Finally you'll be able to import it into pandas.<br>\n",
        "I've created a folder \"data\" under MY DRIVE --> Colab Notebooks<br>\n",
        "Now you need to copy the dataset file: \n",
        "For instance: \"titanic.csv\"<br>\n"
      ]
    },
    {
      "cell_type": "code",
      "metadata": {
        "id": "7EgPg2aFQyvV",
        "outputId": "de332ccf-966b-4d6f-d65c-3bc62e18ee70",
        "colab": {
          "base_uri": "https://localhost:8080/",
          "height": 34
        }
      },
      "source": [
        "# Now you need to Mount your Google Drive to Collaboratory\n",
        "# the first time you run the following code you need to go through some authentication steps\n",
        "# You'll be asked to click on a URL, login, and then copy a special authorization code\n",
        "# copy that into the notebook and you'll then be able to access your datasets\n",
        "from google.colab import drive \n",
        "drive.mount('/content/gdrive')\n",
        "#\n",
        "# If you have already mounted gdrive, you'll get a warning \n",
        "# \"Drive already mounted at /content/gdrive; to attempt to forcibly remount\"\n",
        "# DON'T REMOUNT, JUST CONTINUE"
      ],
      "execution_count": 1,
      "outputs": [
        {
          "output_type": "stream",
          "text": [
            "Mounted at /content/gdrive\n"
          ],
          "name": "stdout"
        }
      ]
    },
    {
      "cell_type": "code",
      "metadata": {
        "id": "SLgaE2upRk8Y",
        "outputId": "de416a28-b2b9-4f20-8f04-46a3b5e0bd88",
        "colab": {
          "base_uri": "https://localhost:8080/",
          "height": 34
        }
      },
      "source": [
        "# Now you will see your Google Drive files in the left pane (file explorer). \n",
        "# Right click on the file that you need to import and select çopy path. \n",
        "# Then import as usual in pandas, using this copied path.\n",
        "# You can now import your dataset\n",
        "import pandas as pd \n",
        "\n",
        "# set local path where notebooks and data and image folders are located\n",
        "path = \"/content/gdrive/My Drive/DW_data/\"\n",
        "zoo_dataset = path + \"zooanimals.data\"\n",
        "print(zoo_dataset)\n"
      ],
      "execution_count": 2,
      "outputs": [
        {
          "output_type": "stream",
          "text": [
            "/content/gdrive/My Drive/DW_data/zooanimals.data\n"
          ],
          "name": "stdout"
        }
      ]
    },
    {
      "cell_type": "markdown",
      "metadata": {
        "id": "JLQdVvIsEFbW"
      },
      "source": [
        "#Let's start by reading a file\n"
      ]
    },
    {
      "cell_type": "code",
      "metadata": {
        "id": "GuAIdO5DEFbX"
      },
      "source": [
        "\n",
        "# loading a file\n",
        "df=pd.read_csv(zoo_dataset)\n"
      ],
      "execution_count": 3,
      "outputs": []
    },
    {
      "cell_type": "code",
      "metadata": {
        "id": "0EjVleANEFbb",
        "outputId": "4d787c3f-92f0-4add-eebb-08434732d137",
        "colab": {
          "base_uri": "https://localhost:8080/",
          "height": 224
        }
      },
      "source": [
        "df.head()"
      ],
      "execution_count": 4,
      "outputs": [
        {
          "output_type": "execute_result",
          "data": {
            "text/html": [
              "<div>\n",
              "<style scoped>\n",
              "    .dataframe tbody tr th:only-of-type {\n",
              "        vertical-align: middle;\n",
              "    }\n",
              "\n",
              "    .dataframe tbody tr th {\n",
              "        vertical-align: top;\n",
              "    }\n",
              "\n",
              "    .dataframe thead th {\n",
              "        text-align: right;\n",
              "    }\n",
              "</style>\n",
              "<table border=\"1\" class=\"dataframe\">\n",
              "  <thead>\n",
              "    <tr style=\"text-align: right;\">\n",
              "      <th></th>\n",
              "      <th>animal</th>\n",
              "      <th>hair</th>\n",
              "      <th>feathers</th>\n",
              "      <th>eggs</th>\n",
              "      <th>milk</th>\n",
              "      <th>airborne</th>\n",
              "      <th>aquatic</th>\n",
              "      <th>predator</th>\n",
              "      <th>toothed</th>\n",
              "      <th>backbone</th>\n",
              "      <th>breathes</th>\n",
              "      <th>venomous</th>\n",
              "      <th>fins</th>\n",
              "      <th>legs</th>\n",
              "      <th>tail</th>\n",
              "      <th>domestic</th>\n",
              "      <th>catsize</th>\n",
              "      <th>type</th>\n",
              "    </tr>\n",
              "  </thead>\n",
              "  <tbody>\n",
              "    <tr>\n",
              "      <th>0</th>\n",
              "      <td>aardvark</td>\n",
              "      <td>1</td>\n",
              "      <td>0</td>\n",
              "      <td>0</td>\n",
              "      <td>1</td>\n",
              "      <td>0</td>\n",
              "      <td>0</td>\n",
              "      <td>1</td>\n",
              "      <td>1</td>\n",
              "      <td>1</td>\n",
              "      <td>1</td>\n",
              "      <td>0</td>\n",
              "      <td>0</td>\n",
              "      <td>4</td>\n",
              "      <td>0</td>\n",
              "      <td>0</td>\n",
              "      <td>1</td>\n",
              "      <td>1</td>\n",
              "    </tr>\n",
              "    <tr>\n",
              "      <th>1</th>\n",
              "      <td>antelope</td>\n",
              "      <td>1</td>\n",
              "      <td>0</td>\n",
              "      <td>0</td>\n",
              "      <td>1</td>\n",
              "      <td>0</td>\n",
              "      <td>0</td>\n",
              "      <td>0</td>\n",
              "      <td>1</td>\n",
              "      <td>1</td>\n",
              "      <td>1</td>\n",
              "      <td>0</td>\n",
              "      <td>0</td>\n",
              "      <td>4</td>\n",
              "      <td>1</td>\n",
              "      <td>0</td>\n",
              "      <td>1</td>\n",
              "      <td>1</td>\n",
              "    </tr>\n",
              "    <tr>\n",
              "      <th>2</th>\n",
              "      <td>bass</td>\n",
              "      <td>0</td>\n",
              "      <td>0</td>\n",
              "      <td>1</td>\n",
              "      <td>0</td>\n",
              "      <td>0</td>\n",
              "      <td>1</td>\n",
              "      <td>1</td>\n",
              "      <td>1</td>\n",
              "      <td>1</td>\n",
              "      <td>0</td>\n",
              "      <td>0</td>\n",
              "      <td>1</td>\n",
              "      <td>0</td>\n",
              "      <td>1</td>\n",
              "      <td>0</td>\n",
              "      <td>0</td>\n",
              "      <td>4</td>\n",
              "    </tr>\n",
              "    <tr>\n",
              "      <th>3</th>\n",
              "      <td>bear</td>\n",
              "      <td>1</td>\n",
              "      <td>0</td>\n",
              "      <td>0</td>\n",
              "      <td>1</td>\n",
              "      <td>0</td>\n",
              "      <td>0</td>\n",
              "      <td>1</td>\n",
              "      <td>1</td>\n",
              "      <td>1</td>\n",
              "      <td>1</td>\n",
              "      <td>0</td>\n",
              "      <td>0</td>\n",
              "      <td>4</td>\n",
              "      <td>0</td>\n",
              "      <td>0</td>\n",
              "      <td>1</td>\n",
              "      <td>1</td>\n",
              "    </tr>\n",
              "    <tr>\n",
              "      <th>4</th>\n",
              "      <td>boar</td>\n",
              "      <td>1</td>\n",
              "      <td>0</td>\n",
              "      <td>0</td>\n",
              "      <td>1</td>\n",
              "      <td>0</td>\n",
              "      <td>0</td>\n",
              "      <td>1</td>\n",
              "      <td>1</td>\n",
              "      <td>1</td>\n",
              "      <td>1</td>\n",
              "      <td>0</td>\n",
              "      <td>0</td>\n",
              "      <td>4</td>\n",
              "      <td>1</td>\n",
              "      <td>0</td>\n",
              "      <td>1</td>\n",
              "      <td>1</td>\n",
              "    </tr>\n",
              "  </tbody>\n",
              "</table>\n",
              "</div>"
            ],
            "text/plain": [
              "     animal  hair  feathers  eggs  milk  ...  legs  tail  domestic  catsize  type\n",
              "0  aardvark     1         0     0     1  ...     4     0         0        1     1\n",
              "1  antelope     1         0     0     1  ...     4     1         0        1     1\n",
              "2      bass     0         0     1     0  ...     0     1         0        0     4\n",
              "3      bear     1         0     0     1  ...     4     0         0        1     1\n",
              "4      boar     1         0     0     1  ...     4     1         0        1     1\n",
              "\n",
              "[5 rows x 18 columns]"
            ]
          },
          "metadata": {
            "tags": []
          },
          "execution_count": 4
        }
      ]
    },
    {
      "cell_type": "markdown",
      "metadata": {
        "id": "NaELfExmEFbf"
      },
      "source": [
        "Starting from reading this dataset, to answering questions about this data in a few lines of code:"
      ]
    },
    {
      "cell_type": "markdown",
      "metadata": {
        "id": "t3Or_EsqEFbh"
      },
      "source": [
        "**How many of these animals have hair?**"
      ]
    },
    {
      "cell_type": "code",
      "metadata": {
        "id": "L0T5-voyEFbi",
        "outputId": "ba5a9442-1e8c-4fb0-80e1-5327ae283172",
        "colab": {
          "base_uri": "https://localhost:8080/",
          "height": 34
        }
      },
      "source": [
        "df['hair'].value_counts()[1]"
      ],
      "execution_count": 5,
      "outputs": [
        {
          "output_type": "execute_result",
          "data": {
            "text/plain": [
              "43"
            ]
          },
          "metadata": {
            "tags": []
          },
          "execution_count": 5
        }
      ]
    },
    {
      "cell_type": "markdown",
      "metadata": {
        "id": "vCVW82-gw8Ps"
      },
      "source": [
        ""
      ]
    },
    {
      "cell_type": "markdown",
      "metadata": {
        "id": "CctA3tNLEFbx"
      },
      "source": [
        "#Pandas\n",
        "\n",
        "For data-intensive work in Python the [Pandas](http://pandas.pydata.org) library has become essential.\n",
        "\n",
        "What is `pandas`?\n",
        "\n",
        "* Pandas can be thought of as *NumPy arrays with labels* for rows and columns, and better support for heterogeneous data types, but it's also much, much more than that.\n",
        "* Pandas can also be thought of as `R`'s `data.frame` in Python.\n",
        "* Powerful for working with missing data, working with time series data, for reading and writing your data, for reshaping, grouping, merging your data, ...\n",
        "\n",
        "It's documentation: http://pandas.pydata.org/pandas-docs/stable/\n",
        "\n",
        "\n",
        "### When do you need pandas?\n",
        "\n",
        "When working with **tabular or structured data** (like R dataframe, SQL table, Excel spreadsheet, ...):\n",
        "\n",
        "- Import data\n",
        "- Clean up messy data\n",
        "- Explore data, gain insight into data\n",
        "- Process and prepare your data for analysis\n",
        "- Analyse your data (together with scikit-learn, statsmodels, ...)\n",
        "\n",
        "<div class=\"alert alert-warning\">\n",
        "<b>ATTENTION!</b>: <br><br>\n",
        "\n",
        "Pandas is great for working with heterogeneous and tabular 1D/2D data, but not all types of data fit in such structures!\n",
        "<ul>\n",
        "<li>When working with array data (e.g. images, numerical algorithms): just stick with numpy</li>\n",
        "<li>When working with multidimensional labeled data (e.g. climate data): have a look at [xarray](http://xarray.pydata.org/en/stable/)</li>\n",
        "</ul>\n",
        "</div>"
      ]
    },
    {
      "cell_type": "markdown",
      "metadata": {
        "id": "mvTb79c4EFby"
      },
      "source": [
        "#The pandas data structure: `DataFrame`\n",
        "\n",
        "A `DataFrame` is a **tablular data structure** (multi-dimensional object to hold labeled data) comprised of rows and columns, akin to a spreadsheet, database table, or R's data.frame object. You can think of it as multiple Series object which share the same index.\n",
        "\n",
        "![alt text](https://drive.google.com/uc?id=1GZ5fHDjM2zSN1cRpuX2wGKBrFUgVJAxv)\n"
      ]
    },
    {
      "cell_type": "code",
      "metadata": {
        "scrolled": false,
        "id": "9lSGPCq8EFbz",
        "outputId": "d7ecfd9b-2f8b-4c12-f8d0-3959e71e8216",
        "colab": {
          "base_uri": "https://localhost:8080/",
          "height": 439
        }
      },
      "source": [
        "df"
      ],
      "execution_count": 6,
      "outputs": [
        {
          "output_type": "execute_result",
          "data": {
            "text/html": [
              "<div>\n",
              "<style scoped>\n",
              "    .dataframe tbody tr th:only-of-type {\n",
              "        vertical-align: middle;\n",
              "    }\n",
              "\n",
              "    .dataframe tbody tr th {\n",
              "        vertical-align: top;\n",
              "    }\n",
              "\n",
              "    .dataframe thead th {\n",
              "        text-align: right;\n",
              "    }\n",
              "</style>\n",
              "<table border=\"1\" class=\"dataframe\">\n",
              "  <thead>\n",
              "    <tr style=\"text-align: right;\">\n",
              "      <th></th>\n",
              "      <th>animal</th>\n",
              "      <th>hair</th>\n",
              "      <th>feathers</th>\n",
              "      <th>eggs</th>\n",
              "      <th>milk</th>\n",
              "      <th>airborne</th>\n",
              "      <th>aquatic</th>\n",
              "      <th>predator</th>\n",
              "      <th>toothed</th>\n",
              "      <th>backbone</th>\n",
              "      <th>breathes</th>\n",
              "      <th>venomous</th>\n",
              "      <th>fins</th>\n",
              "      <th>legs</th>\n",
              "      <th>tail</th>\n",
              "      <th>domestic</th>\n",
              "      <th>catsize</th>\n",
              "      <th>type</th>\n",
              "    </tr>\n",
              "  </thead>\n",
              "  <tbody>\n",
              "    <tr>\n",
              "      <th>0</th>\n",
              "      <td>aardvark</td>\n",
              "      <td>1</td>\n",
              "      <td>0</td>\n",
              "      <td>0</td>\n",
              "      <td>1</td>\n",
              "      <td>0</td>\n",
              "      <td>0</td>\n",
              "      <td>1</td>\n",
              "      <td>1</td>\n",
              "      <td>1</td>\n",
              "      <td>1</td>\n",
              "      <td>0</td>\n",
              "      <td>0</td>\n",
              "      <td>4</td>\n",
              "      <td>0</td>\n",
              "      <td>0</td>\n",
              "      <td>1</td>\n",
              "      <td>1</td>\n",
              "    </tr>\n",
              "    <tr>\n",
              "      <th>1</th>\n",
              "      <td>antelope</td>\n",
              "      <td>1</td>\n",
              "      <td>0</td>\n",
              "      <td>0</td>\n",
              "      <td>1</td>\n",
              "      <td>0</td>\n",
              "      <td>0</td>\n",
              "      <td>0</td>\n",
              "      <td>1</td>\n",
              "      <td>1</td>\n",
              "      <td>1</td>\n",
              "      <td>0</td>\n",
              "      <td>0</td>\n",
              "      <td>4</td>\n",
              "      <td>1</td>\n",
              "      <td>0</td>\n",
              "      <td>1</td>\n",
              "      <td>1</td>\n",
              "    </tr>\n",
              "    <tr>\n",
              "      <th>2</th>\n",
              "      <td>bass</td>\n",
              "      <td>0</td>\n",
              "      <td>0</td>\n",
              "      <td>1</td>\n",
              "      <td>0</td>\n",
              "      <td>0</td>\n",
              "      <td>1</td>\n",
              "      <td>1</td>\n",
              "      <td>1</td>\n",
              "      <td>1</td>\n",
              "      <td>0</td>\n",
              "      <td>0</td>\n",
              "      <td>1</td>\n",
              "      <td>0</td>\n",
              "      <td>1</td>\n",
              "      <td>0</td>\n",
              "      <td>0</td>\n",
              "      <td>4</td>\n",
              "    </tr>\n",
              "    <tr>\n",
              "      <th>3</th>\n",
              "      <td>bear</td>\n",
              "      <td>1</td>\n",
              "      <td>0</td>\n",
              "      <td>0</td>\n",
              "      <td>1</td>\n",
              "      <td>0</td>\n",
              "      <td>0</td>\n",
              "      <td>1</td>\n",
              "      <td>1</td>\n",
              "      <td>1</td>\n",
              "      <td>1</td>\n",
              "      <td>0</td>\n",
              "      <td>0</td>\n",
              "      <td>4</td>\n",
              "      <td>0</td>\n",
              "      <td>0</td>\n",
              "      <td>1</td>\n",
              "      <td>1</td>\n",
              "    </tr>\n",
              "    <tr>\n",
              "      <th>4</th>\n",
              "      <td>boar</td>\n",
              "      <td>1</td>\n",
              "      <td>0</td>\n",
              "      <td>0</td>\n",
              "      <td>1</td>\n",
              "      <td>0</td>\n",
              "      <td>0</td>\n",
              "      <td>1</td>\n",
              "      <td>1</td>\n",
              "      <td>1</td>\n",
              "      <td>1</td>\n",
              "      <td>0</td>\n",
              "      <td>0</td>\n",
              "      <td>4</td>\n",
              "      <td>1</td>\n",
              "      <td>0</td>\n",
              "      <td>1</td>\n",
              "      <td>1</td>\n",
              "    </tr>\n",
              "    <tr>\n",
              "      <th>...</th>\n",
              "      <td>...</td>\n",
              "      <td>...</td>\n",
              "      <td>...</td>\n",
              "      <td>...</td>\n",
              "      <td>...</td>\n",
              "      <td>...</td>\n",
              "      <td>...</td>\n",
              "      <td>...</td>\n",
              "      <td>...</td>\n",
              "      <td>...</td>\n",
              "      <td>...</td>\n",
              "      <td>...</td>\n",
              "      <td>...</td>\n",
              "      <td>...</td>\n",
              "      <td>...</td>\n",
              "      <td>...</td>\n",
              "      <td>...</td>\n",
              "      <td>...</td>\n",
              "    </tr>\n",
              "    <tr>\n",
              "      <th>96</th>\n",
              "      <td>wallaby</td>\n",
              "      <td>1</td>\n",
              "      <td>0</td>\n",
              "      <td>0</td>\n",
              "      <td>1</td>\n",
              "      <td>0</td>\n",
              "      <td>0</td>\n",
              "      <td>0</td>\n",
              "      <td>1</td>\n",
              "      <td>1</td>\n",
              "      <td>1</td>\n",
              "      <td>0</td>\n",
              "      <td>0</td>\n",
              "      <td>2</td>\n",
              "      <td>1</td>\n",
              "      <td>0</td>\n",
              "      <td>1</td>\n",
              "      <td>1</td>\n",
              "    </tr>\n",
              "    <tr>\n",
              "      <th>97</th>\n",
              "      <td>wasp</td>\n",
              "      <td>1</td>\n",
              "      <td>0</td>\n",
              "      <td>1</td>\n",
              "      <td>0</td>\n",
              "      <td>1</td>\n",
              "      <td>0</td>\n",
              "      <td>0</td>\n",
              "      <td>0</td>\n",
              "      <td>0</td>\n",
              "      <td>1</td>\n",
              "      <td>1</td>\n",
              "      <td>0</td>\n",
              "      <td>6</td>\n",
              "      <td>0</td>\n",
              "      <td>0</td>\n",
              "      <td>0</td>\n",
              "      <td>6</td>\n",
              "    </tr>\n",
              "    <tr>\n",
              "      <th>98</th>\n",
              "      <td>wolf</td>\n",
              "      <td>1</td>\n",
              "      <td>0</td>\n",
              "      <td>0</td>\n",
              "      <td>1</td>\n",
              "      <td>0</td>\n",
              "      <td>0</td>\n",
              "      <td>1</td>\n",
              "      <td>1</td>\n",
              "      <td>1</td>\n",
              "      <td>1</td>\n",
              "      <td>0</td>\n",
              "      <td>0</td>\n",
              "      <td>4</td>\n",
              "      <td>1</td>\n",
              "      <td>0</td>\n",
              "      <td>1</td>\n",
              "      <td>1</td>\n",
              "    </tr>\n",
              "    <tr>\n",
              "      <th>99</th>\n",
              "      <td>worm</td>\n",
              "      <td>0</td>\n",
              "      <td>0</td>\n",
              "      <td>1</td>\n",
              "      <td>0</td>\n",
              "      <td>0</td>\n",
              "      <td>0</td>\n",
              "      <td>0</td>\n",
              "      <td>0</td>\n",
              "      <td>0</td>\n",
              "      <td>1</td>\n",
              "      <td>0</td>\n",
              "      <td>0</td>\n",
              "      <td>0</td>\n",
              "      <td>0</td>\n",
              "      <td>0</td>\n",
              "      <td>0</td>\n",
              "      <td>7</td>\n",
              "    </tr>\n",
              "    <tr>\n",
              "      <th>100</th>\n",
              "      <td>wren</td>\n",
              "      <td>0</td>\n",
              "      <td>1</td>\n",
              "      <td>1</td>\n",
              "      <td>0</td>\n",
              "      <td>1</td>\n",
              "      <td>0</td>\n",
              "      <td>0</td>\n",
              "      <td>0</td>\n",
              "      <td>1</td>\n",
              "      <td>1</td>\n",
              "      <td>0</td>\n",
              "      <td>0</td>\n",
              "      <td>2</td>\n",
              "      <td>1</td>\n",
              "      <td>0</td>\n",
              "      <td>0</td>\n",
              "      <td>2</td>\n",
              "    </tr>\n",
              "  </tbody>\n",
              "</table>\n",
              "<p>101 rows × 18 columns</p>\n",
              "</div>"
            ],
            "text/plain": [
              "       animal  hair  feathers  eggs  milk  ...  legs  tail  domestic  catsize  type\n",
              "0    aardvark     1         0     0     1  ...     4     0         0        1     1\n",
              "1    antelope     1         0     0     1  ...     4     1         0        1     1\n",
              "2        bass     0         0     1     0  ...     0     1         0        0     4\n",
              "3        bear     1         0     0     1  ...     4     0         0        1     1\n",
              "4        boar     1         0     0     1  ...     4     1         0        1     1\n",
              "..        ...   ...       ...   ...   ...  ...   ...   ...       ...      ...   ...\n",
              "96    wallaby     1         0     0     1  ...     2     1         0        1     1\n",
              "97       wasp     1         0     1     0  ...     6     0         0        0     6\n",
              "98       wolf     1         0     0     1  ...     4     1         0        1     1\n",
              "99       worm     0         0     1     0  ...     0     0         0        0     7\n",
              "100      wren     0         1     1     0  ...     2     1         0        0     2\n",
              "\n",
              "[101 rows x 18 columns]"
            ]
          },
          "metadata": {
            "tags": []
          },
          "execution_count": 6
        }
      ]
    },
    {
      "cell_type": "markdown",
      "metadata": {
        "id": "Lb2oRadCEFb2"
      },
      "source": [
        "### Attributes of the DataFrame\n",
        "\n",
        "A DataFrame has an `index` attribute and a `columns` attribute:"
      ]
    },
    {
      "cell_type": "code",
      "metadata": {
        "id": "wNyzaPgEEFb3",
        "outputId": "4c0b6a51-0e21-4eff-dcbd-96e2f7166187",
        "colab": {
          "base_uri": "https://localhost:8080/",
          "height": 34
        }
      },
      "source": [
        "df.index"
      ],
      "execution_count": 7,
      "outputs": [
        {
          "output_type": "execute_result",
          "data": {
            "text/plain": [
              "RangeIndex(start=0, stop=101, step=1)"
            ]
          },
          "metadata": {
            "tags": []
          },
          "execution_count": 7
        }
      ]
    },
    {
      "cell_type": "code",
      "metadata": {
        "id": "XZZbtJrkEFb7",
        "outputId": "f499be0a-881e-456b-8e37-b8261c91ae77",
        "colab": {
          "base_uri": "https://localhost:8080/",
          "height": 85
        }
      },
      "source": [
        "df.columns"
      ],
      "execution_count": 8,
      "outputs": [
        {
          "output_type": "execute_result",
          "data": {
            "text/plain": [
              "Index(['animal', 'hair', 'feathers', 'eggs', 'milk', 'airborne', 'aquatic',\n",
              "       'predator', 'toothed', 'backbone', 'breathes', 'venomous', 'fins',\n",
              "       'legs', 'tail', 'domestic', 'catsize', 'type'],\n",
              "      dtype='object')"
            ]
          },
          "metadata": {
            "tags": []
          },
          "execution_count": 8
        }
      ]
    },
    {
      "cell_type": "markdown",
      "metadata": {
        "id": "35Lp5ZyEEFb-"
      },
      "source": [
        "To check the data types of the different columns:"
      ]
    },
    {
      "cell_type": "code",
      "metadata": {
        "id": "yCPDbriuEFb_",
        "outputId": "c0bda8bc-8e45-431d-8d44-5bc41e741bb9",
        "colab": {
          "base_uri": "https://localhost:8080/",
          "height": 340
        }
      },
      "source": [
        "df.dtypes"
      ],
      "execution_count": 9,
      "outputs": [
        {
          "output_type": "execute_result",
          "data": {
            "text/plain": [
              "animal      object\n",
              "hair         int64\n",
              "feathers     int64\n",
              "eggs         int64\n",
              "milk         int64\n",
              "airborne     int64\n",
              "aquatic      int64\n",
              "predator     int64\n",
              "toothed      int64\n",
              "backbone     int64\n",
              "breathes     int64\n",
              "venomous     int64\n",
              "fins         int64\n",
              "legs         int64\n",
              "tail         int64\n",
              "domestic     int64\n",
              "catsize      int64\n",
              "type         int64\n",
              "dtype: object"
            ]
          },
          "metadata": {
            "tags": []
          },
          "execution_count": 9
        }
      ]
    },
    {
      "cell_type": "markdown",
      "metadata": {
        "id": "9pLf6c4REFcD"
      },
      "source": [
        "An overview of all the above information is given by the `info()` method:"
      ]
    },
    {
      "cell_type": "code",
      "metadata": {
        "id": "FsZ0DV-pEFcE",
        "outputId": "9b03343e-ad50-4ce1-abe2-135869604969",
        "colab": {
          "base_uri": "https://localhost:8080/",
          "height": 442
        }
      },
      "source": [
        "df.info()"
      ],
      "execution_count": 10,
      "outputs": [
        {
          "output_type": "stream",
          "text": [
            "<class 'pandas.core.frame.DataFrame'>\n",
            "RangeIndex: 101 entries, 0 to 100\n",
            "Data columns (total 18 columns):\n",
            " #   Column    Non-Null Count  Dtype \n",
            "---  ------    --------------  ----- \n",
            " 0   animal    101 non-null    object\n",
            " 1   hair      101 non-null    int64 \n",
            " 2   feathers  101 non-null    int64 \n",
            " 3   eggs      101 non-null    int64 \n",
            " 4   milk      101 non-null    int64 \n",
            " 5   airborne  101 non-null    int64 \n",
            " 6   aquatic   101 non-null    int64 \n",
            " 7   predator  101 non-null    int64 \n",
            " 8   toothed   101 non-null    int64 \n",
            " 9   backbone  101 non-null    int64 \n",
            " 10  breathes  101 non-null    int64 \n",
            " 11  venomous  101 non-null    int64 \n",
            " 12  fins      101 non-null    int64 \n",
            " 13  legs      101 non-null    int64 \n",
            " 14  tail      101 non-null    int64 \n",
            " 15  domestic  101 non-null    int64 \n",
            " 16  catsize   101 non-null    int64 \n",
            " 17  type      101 non-null    int64 \n",
            "dtypes: int64(17), object(1)\n",
            "memory usage: 14.3+ KB\n"
          ],
          "name": "stdout"
        }
      ]
    },
    {
      "cell_type": "markdown",
      "metadata": {
        "id": "jedSjhu2EFcJ"
      },
      "source": [
        "Also a DataFrame has a `values` attribute, but attention: when you have heterogeneous data, all values will be upcasted:"
      ]
    },
    {
      "cell_type": "code",
      "metadata": {
        "scrolled": true,
        "id": "YaNwts06EFcK",
        "outputId": "39ad66a8-943f-452f-b49f-2269d1416a6b",
        "colab": {
          "base_uri": "https://localhost:8080/",
          "height": 136
        }
      },
      "source": [
        "df.values"
      ],
      "execution_count": 11,
      "outputs": [
        {
          "output_type": "execute_result",
          "data": {
            "text/plain": [
              "array([['aardvark', 1, 0, ..., 0, 1, 1],\n",
              "       ['antelope', 1, 0, ..., 0, 1, 1],\n",
              "       ['bass', 0, 0, ..., 0, 0, 4],\n",
              "       ...,\n",
              "       ['wolf', 1, 0, ..., 0, 1, 1],\n",
              "       ['worm', 0, 0, ..., 0, 0, 7],\n",
              "       ['wren', 0, 1, ..., 0, 0, 2]], dtype=object)"
            ]
          },
          "metadata": {
            "tags": []
          },
          "execution_count": 11
        }
      ]
    },
    {
      "cell_type": "markdown",
      "metadata": {
        "id": "Zpto11vPEFcM"
      },
      "source": [
        "### You can also create a DataFrame from a list\n",
        "Apart from importing your data from an external source (text file, excel, database, ..), one of the most common ways of creating a dataframe is from a dictionary of arrays or lists.\n",
        "\n",
        "Note that in the IPython notebook, the dataframe will display in a rich HTML view:"
      ]
    },
    {
      "cell_type": "code",
      "metadata": {
        "id": "BFjO_QpiEFcN",
        "outputId": "8c44a627-35ed-4b60-9758-c57ef90c458d",
        "colab": {
          "base_uri": "https://localhost:8080/",
          "height": 204
        }
      },
      "source": [
        "data = {'country': ['Belgium', 'France', 'Germany', 'Netherlands', 'United Kingdom'],\n",
        "        'population': [11.3, 64.3, 81.3, 16.9, 64.9],\n",
        "        'area': [30510, 671308, 357050, 41526, 244820],\n",
        "        'capital': ['Brussels', 'Paris', 'Berlin', 'Amsterdam', 'London']}\n",
        "df_countries = pd.DataFrame(data)\n",
        "df_countries"
      ],
      "execution_count": 12,
      "outputs": [
        {
          "output_type": "execute_result",
          "data": {
            "text/html": [
              "<div>\n",
              "<style scoped>\n",
              "    .dataframe tbody tr th:only-of-type {\n",
              "        vertical-align: middle;\n",
              "    }\n",
              "\n",
              "    .dataframe tbody tr th {\n",
              "        vertical-align: top;\n",
              "    }\n",
              "\n",
              "    .dataframe thead th {\n",
              "        text-align: right;\n",
              "    }\n",
              "</style>\n",
              "<table border=\"1\" class=\"dataframe\">\n",
              "  <thead>\n",
              "    <tr style=\"text-align: right;\">\n",
              "      <th></th>\n",
              "      <th>country</th>\n",
              "      <th>population</th>\n",
              "      <th>area</th>\n",
              "      <th>capital</th>\n",
              "    </tr>\n",
              "  </thead>\n",
              "  <tbody>\n",
              "    <tr>\n",
              "      <th>0</th>\n",
              "      <td>Belgium</td>\n",
              "      <td>11.3</td>\n",
              "      <td>30510</td>\n",
              "      <td>Brussels</td>\n",
              "    </tr>\n",
              "    <tr>\n",
              "      <th>1</th>\n",
              "      <td>France</td>\n",
              "      <td>64.3</td>\n",
              "      <td>671308</td>\n",
              "      <td>Paris</td>\n",
              "    </tr>\n",
              "    <tr>\n",
              "      <th>2</th>\n",
              "      <td>Germany</td>\n",
              "      <td>81.3</td>\n",
              "      <td>357050</td>\n",
              "      <td>Berlin</td>\n",
              "    </tr>\n",
              "    <tr>\n",
              "      <th>3</th>\n",
              "      <td>Netherlands</td>\n",
              "      <td>16.9</td>\n",
              "      <td>41526</td>\n",
              "      <td>Amsterdam</td>\n",
              "    </tr>\n",
              "    <tr>\n",
              "      <th>4</th>\n",
              "      <td>United Kingdom</td>\n",
              "      <td>64.9</td>\n",
              "      <td>244820</td>\n",
              "      <td>London</td>\n",
              "    </tr>\n",
              "  </tbody>\n",
              "</table>\n",
              "</div>"
            ],
            "text/plain": [
              "          country  population    area    capital\n",
              "0         Belgium        11.3   30510   Brussels\n",
              "1          France        64.3  671308      Paris\n",
              "2         Germany        81.3  357050     Berlin\n",
              "3     Netherlands        16.9   41526  Amsterdam\n",
              "4  United Kingdom        64.9  244820     London"
            ]
          },
          "metadata": {
            "tags": []
          },
          "execution_count": 12
        }
      ]
    },
    {
      "cell_type": "markdown",
      "metadata": {
        "id": "e2h8oMPIEFcv"
      },
      "source": [
        "Fancy indexing, like indexing with a list or boolean indexing:"
      ]
    },
    {
      "cell_type": "markdown",
      "metadata": {
        "id": "UsUzDoekEFc5"
      },
      "source": [
        "### There are also some Panda specific methods\n",
        "For example:"
      ]
    },
    {
      "cell_type": "code",
      "metadata": {
        "id": "By4X5l0OEFc6",
        "outputId": "a9ab1db3-aa92-4c54-ae11-64e5525a71be",
        "colab": {
          "base_uri": "https://localhost:8080/",
          "height": 119
        }
      },
      "source": [
        "df_countries['population'].value_counts()"
      ],
      "execution_count": 13,
      "outputs": [
        {
          "output_type": "execute_result",
          "data": {
            "text/plain": [
              "81.3    1\n",
              "11.3    1\n",
              "16.9    1\n",
              "64.3    1\n",
              "64.9    1\n",
              "Name: population, dtype: int64"
            ]
          },
          "metadata": {
            "tags": []
          },
          "execution_count": 13
        }
      ]
    },
    {
      "cell_type": "markdown",
      "metadata": {
        "id": "L1S45qu6EFc8"
      },
      "source": [
        "<div class=\"alert alert-success\">\n",
        "\n",
        "<b>EXERCISE</b>:\n",
        "\n",
        " <ul>\n",
        "  <li>Which is the biggest population?</li>\n",
        "</ul>\n",
        "</div>"
      ]
    },
    {
      "cell_type": "code",
      "metadata": {
        "clear_cell": true,
        "id": "Sc7rDwWHEFc9"
      },
      "source": [
        "#write your code here"
      ],
      "execution_count": 14,
      "outputs": []
    },
    {
      "cell_type": "markdown",
      "metadata": {
        "id": "s9ELkjEIEFeE"
      },
      "source": [
        "<div class=\"alert alert-warning\">\n",
        "<b>ATTENTION!</b>: <br><br>\n",
        "\n",
        "One of pandas' basic features is the labeling of rows and columns.  <br><br> We now have to distuinguish between:\n",
        "\n",
        " <ul>\n",
        "  <li>selection by **label**</li>\n",
        "  <li>selection by **position**</li>\n",
        "</ul>\n",
        "</div>"
      ]
    },
    {
      "cell_type": "markdown",
      "metadata": {
        "id": "L3EcljfkEFeG"
      },
      "source": [
        "### `df[]` provides some convenience shortcuts "
      ]
    },
    {
      "cell_type": "markdown",
      "metadata": {
        "id": "sbRUZLurEFeH"
      },
      "source": [
        "For a DataFrame, basic indexing selects the columns.\n",
        "\n",
        "Selecting a single column:"
      ]
    },
    {
      "cell_type": "code",
      "metadata": {
        "id": "J27lc8MKEFeI",
        "outputId": "1e99e7ef-ff1d-4b86-ceff-92e747aaa7f5",
        "colab": {
          "base_uri": "https://localhost:8080/",
          "height": 221
        }
      },
      "source": [
        "df['hair']"
      ],
      "execution_count": 15,
      "outputs": [
        {
          "output_type": "execute_result",
          "data": {
            "text/plain": [
              "0      1\n",
              "1      1\n",
              "2      0\n",
              "3      1\n",
              "4      1\n",
              "      ..\n",
              "96     1\n",
              "97     1\n",
              "98     1\n",
              "99     0\n",
              "100    0\n",
              "Name: hair, Length: 101, dtype: int64"
            ]
          },
          "metadata": {
            "tags": []
          },
          "execution_count": 15
        }
      ]
    },
    {
      "cell_type": "markdown",
      "metadata": {
        "id": "_4r4SoZ2EFeL"
      },
      "source": [
        "or multiple columns:"
      ]
    },
    {
      "cell_type": "code",
      "metadata": {
        "id": "st1z9kt6EFeO",
        "outputId": "2a91f6aa-dd6b-42c7-b887-1f44709bedd1",
        "colab": {
          "base_uri": "https://localhost:8080/",
          "height": 419
        }
      },
      "source": [
        "df[['hair', 'feathers']]"
      ],
      "execution_count": 16,
      "outputs": [
        {
          "output_type": "execute_result",
          "data": {
            "text/html": [
              "<div>\n",
              "<style scoped>\n",
              "    .dataframe tbody tr th:only-of-type {\n",
              "        vertical-align: middle;\n",
              "    }\n",
              "\n",
              "    .dataframe tbody tr th {\n",
              "        vertical-align: top;\n",
              "    }\n",
              "\n",
              "    .dataframe thead th {\n",
              "        text-align: right;\n",
              "    }\n",
              "</style>\n",
              "<table border=\"1\" class=\"dataframe\">\n",
              "  <thead>\n",
              "    <tr style=\"text-align: right;\">\n",
              "      <th></th>\n",
              "      <th>hair</th>\n",
              "      <th>feathers</th>\n",
              "    </tr>\n",
              "  </thead>\n",
              "  <tbody>\n",
              "    <tr>\n",
              "      <th>0</th>\n",
              "      <td>1</td>\n",
              "      <td>0</td>\n",
              "    </tr>\n",
              "    <tr>\n",
              "      <th>1</th>\n",
              "      <td>1</td>\n",
              "      <td>0</td>\n",
              "    </tr>\n",
              "    <tr>\n",
              "      <th>2</th>\n",
              "      <td>0</td>\n",
              "      <td>0</td>\n",
              "    </tr>\n",
              "    <tr>\n",
              "      <th>3</th>\n",
              "      <td>1</td>\n",
              "      <td>0</td>\n",
              "    </tr>\n",
              "    <tr>\n",
              "      <th>4</th>\n",
              "      <td>1</td>\n",
              "      <td>0</td>\n",
              "    </tr>\n",
              "    <tr>\n",
              "      <th>...</th>\n",
              "      <td>...</td>\n",
              "      <td>...</td>\n",
              "    </tr>\n",
              "    <tr>\n",
              "      <th>96</th>\n",
              "      <td>1</td>\n",
              "      <td>0</td>\n",
              "    </tr>\n",
              "    <tr>\n",
              "      <th>97</th>\n",
              "      <td>1</td>\n",
              "      <td>0</td>\n",
              "    </tr>\n",
              "    <tr>\n",
              "      <th>98</th>\n",
              "      <td>1</td>\n",
              "      <td>0</td>\n",
              "    </tr>\n",
              "    <tr>\n",
              "      <th>99</th>\n",
              "      <td>0</td>\n",
              "      <td>0</td>\n",
              "    </tr>\n",
              "    <tr>\n",
              "      <th>100</th>\n",
              "      <td>0</td>\n",
              "      <td>1</td>\n",
              "    </tr>\n",
              "  </tbody>\n",
              "</table>\n",
              "<p>101 rows × 2 columns</p>\n",
              "</div>"
            ],
            "text/plain": [
              "     hair  feathers\n",
              "0       1         0\n",
              "1       1         0\n",
              "2       0         0\n",
              "3       1         0\n",
              "4       1         0\n",
              "..    ...       ...\n",
              "96      1         0\n",
              "97      1         0\n",
              "98      1         0\n",
              "99      0         0\n",
              "100     0         1\n",
              "\n",
              "[101 rows x 2 columns]"
            ]
          },
          "metadata": {
            "tags": []
          },
          "execution_count": 16
        }
      ]
    },
    {
      "cell_type": "markdown",
      "metadata": {
        "id": "Bht8m81MEFeS"
      },
      "source": [
        "But, slicing accesses the rows:"
      ]
    },
    {
      "cell_type": "code",
      "metadata": {
        "id": "S6_Ws_oLEFeX",
        "outputId": "f715299d-7599-41cf-f24a-689f10370a33",
        "colab": {
          "base_uri": "https://localhost:8080/",
          "height": 255
        }
      },
      "source": [
        "df[10:15]"
      ],
      "execution_count": 25,
      "outputs": [
        {
          "output_type": "execute_result",
          "data": {
            "text/html": [
              "<div>\n",
              "<style scoped>\n",
              "    .dataframe tbody tr th:only-of-type {\n",
              "        vertical-align: middle;\n",
              "    }\n",
              "\n",
              "    .dataframe tbody tr th {\n",
              "        vertical-align: top;\n",
              "    }\n",
              "\n",
              "    .dataframe thead th {\n",
              "        text-align: right;\n",
              "    }\n",
              "</style>\n",
              "<table border=\"1\" class=\"dataframe\">\n",
              "  <thead>\n",
              "    <tr style=\"text-align: right;\">\n",
              "      <th></th>\n",
              "      <th>hair</th>\n",
              "      <th>feathers</th>\n",
              "      <th>eggs</th>\n",
              "      <th>milk</th>\n",
              "      <th>airborne</th>\n",
              "      <th>aquatic</th>\n",
              "      <th>predator</th>\n",
              "      <th>toothed</th>\n",
              "      <th>backbone</th>\n",
              "      <th>breathes</th>\n",
              "      <th>venomous</th>\n",
              "      <th>fins</th>\n",
              "      <th>legs</th>\n",
              "      <th>tail</th>\n",
              "      <th>domestic</th>\n",
              "      <th>catsize</th>\n",
              "      <th>type</th>\n",
              "    </tr>\n",
              "    <tr>\n",
              "      <th>animal</th>\n",
              "      <th></th>\n",
              "      <th></th>\n",
              "      <th></th>\n",
              "      <th></th>\n",
              "      <th></th>\n",
              "      <th></th>\n",
              "      <th></th>\n",
              "      <th></th>\n",
              "      <th></th>\n",
              "      <th></th>\n",
              "      <th></th>\n",
              "      <th></th>\n",
              "      <th></th>\n",
              "      <th></th>\n",
              "      <th></th>\n",
              "      <th></th>\n",
              "      <th></th>\n",
              "    </tr>\n",
              "  </thead>\n",
              "  <tbody>\n",
              "    <tr>\n",
              "      <th>cheetah</th>\n",
              "      <td>1</td>\n",
              "      <td>0</td>\n",
              "      <td>0</td>\n",
              "      <td>1</td>\n",
              "      <td>0</td>\n",
              "      <td>0</td>\n",
              "      <td>1</td>\n",
              "      <td>1</td>\n",
              "      <td>1</td>\n",
              "      <td>1</td>\n",
              "      <td>0</td>\n",
              "      <td>0</td>\n",
              "      <td>4</td>\n",
              "      <td>1</td>\n",
              "      <td>0</td>\n",
              "      <td>1</td>\n",
              "      <td>1</td>\n",
              "    </tr>\n",
              "    <tr>\n",
              "      <th>chicken</th>\n",
              "      <td>0</td>\n",
              "      <td>1</td>\n",
              "      <td>1</td>\n",
              "      <td>0</td>\n",
              "      <td>1</td>\n",
              "      <td>0</td>\n",
              "      <td>0</td>\n",
              "      <td>0</td>\n",
              "      <td>1</td>\n",
              "      <td>1</td>\n",
              "      <td>0</td>\n",
              "      <td>0</td>\n",
              "      <td>2</td>\n",
              "      <td>1</td>\n",
              "      <td>1</td>\n",
              "      <td>0</td>\n",
              "      <td>2</td>\n",
              "    </tr>\n",
              "    <tr>\n",
              "      <th>chub</th>\n",
              "      <td>0</td>\n",
              "      <td>0</td>\n",
              "      <td>1</td>\n",
              "      <td>0</td>\n",
              "      <td>0</td>\n",
              "      <td>1</td>\n",
              "      <td>1</td>\n",
              "      <td>1</td>\n",
              "      <td>1</td>\n",
              "      <td>0</td>\n",
              "      <td>0</td>\n",
              "      <td>1</td>\n",
              "      <td>0</td>\n",
              "      <td>1</td>\n",
              "      <td>0</td>\n",
              "      <td>0</td>\n",
              "      <td>4</td>\n",
              "    </tr>\n",
              "    <tr>\n",
              "      <th>clam</th>\n",
              "      <td>0</td>\n",
              "      <td>0</td>\n",
              "      <td>1</td>\n",
              "      <td>0</td>\n",
              "      <td>0</td>\n",
              "      <td>0</td>\n",
              "      <td>1</td>\n",
              "      <td>0</td>\n",
              "      <td>0</td>\n",
              "      <td>0</td>\n",
              "      <td>0</td>\n",
              "      <td>0</td>\n",
              "      <td>0</td>\n",
              "      <td>0</td>\n",
              "      <td>0</td>\n",
              "      <td>0</td>\n",
              "      <td>7</td>\n",
              "    </tr>\n",
              "    <tr>\n",
              "      <th>crab</th>\n",
              "      <td>0</td>\n",
              "      <td>0</td>\n",
              "      <td>1</td>\n",
              "      <td>0</td>\n",
              "      <td>0</td>\n",
              "      <td>1</td>\n",
              "      <td>1</td>\n",
              "      <td>0</td>\n",
              "      <td>0</td>\n",
              "      <td>0</td>\n",
              "      <td>0</td>\n",
              "      <td>0</td>\n",
              "      <td>4</td>\n",
              "      <td>0</td>\n",
              "      <td>0</td>\n",
              "      <td>0</td>\n",
              "      <td>7</td>\n",
              "    </tr>\n",
              "  </tbody>\n",
              "</table>\n",
              "</div>"
            ],
            "text/plain": [
              "         hair  feathers  eggs  milk  ...  tail  domestic  catsize  type\n",
              "animal                               ...                               \n",
              "cheetah     1         0     0     1  ...     1         0        1     1\n",
              "chicken     0         1     1     0  ...     1         1        0     2\n",
              "chub        0         0     1     0  ...     1         0        0     4\n",
              "clam        0         0     1     0  ...     0         0        0     7\n",
              "crab        0         0     1     0  ...     0         0        0     7\n",
              "\n",
              "[5 rows x 17 columns]"
            ]
          },
          "metadata": {
            "tags": []
          },
          "execution_count": 25
        }
      ]
    },
    {
      "cell_type": "code",
      "metadata": {
        "id": "KoptCjImUlhh"
      },
      "source": [
        ""
      ],
      "execution_count": null,
      "outputs": []
    },
    {
      "cell_type": "markdown",
      "metadata": {
        "id": "2TLq_U9DEFeb"
      },
      "source": [
        "### Systematic indexing with `loc` and `iloc`\n",
        "\n",
        "When using `[]` like above, you can only select from one axis at once **rows or columns, not both**. For more advanced indexing, you have some extra attributes:\n",
        "    \n",
        "* `loc`: selection by label\n",
        "* `iloc`: selection by position\n",
        "\n",
        "These methods index the different dimensions of the frame:\n",
        "\n",
        "* `df.loc[row_indexer, column_indexer]`\n",
        "* `df.iloc[row_indexer, column_indexer]`"
      ]
    },
    {
      "cell_type": "code",
      "metadata": {
        "id": "rCnMlAo2UwQK"
      },
      "source": [
        "df = pd.read_csv(\"titanic.csv\")"
      ],
      "execution_count": 28,
      "outputs": []
    },
    {
      "cell_type": "code",
      "metadata": {
        "id": "8pcA0CVjEFec"
      },
      "source": [
        "df = df.set_index('Name')"
      ],
      "execution_count": 29,
      "outputs": []
    },
    {
      "cell_type": "code",
      "metadata": {
        "id": "o4XGytjqEFef",
        "outputId": "228951b7-9aea-4579-e0c0-2d25a1eea4de",
        "colab": {
          "base_uri": "https://localhost:8080/",
          "height": 34
        }
      },
      "source": [
        "df.loc['Bonnell, Miss. Elizabeth', 'Fare']"
      ],
      "execution_count": 34,
      "outputs": [
        {
          "output_type": "execute_result",
          "data": {
            "text/plain": [
              "26.55"
            ]
          },
          "metadata": {
            "tags": []
          },
          "execution_count": 34
        }
      ]
    },
    {
      "cell_type": "markdown",
      "metadata": {
        "id": "Qf4p4fpEEFei"
      },
      "source": [
        "But the row or column indexer can also be a list, slice, boolean array, .."
      ]
    },
    {
      "cell_type": "code",
      "metadata": {
        "scrolled": false,
        "id": "xikC-D0UEFei",
        "outputId": "362a70cd-9d83-437c-cfd1-8e0dc5a23b9c",
        "colab": {
          "base_uri": "https://localhost:8080/",
          "height": 173
        }
      },
      "source": [
        "# select a range in the rows. The : indicates that we are selecting all columns\n",
        "df.loc['Bonnell, Miss. Elizabeth':'Andersson, Mr. Anders Johan', :]"
      ],
      "execution_count": 33,
      "outputs": [
        {
          "output_type": "execute_result",
          "data": {
            "text/html": [
              "<div>\n",
              "<style scoped>\n",
              "    .dataframe tbody tr th:only-of-type {\n",
              "        vertical-align: middle;\n",
              "    }\n",
              "\n",
              "    .dataframe tbody tr th {\n",
              "        vertical-align: top;\n",
              "    }\n",
              "\n",
              "    .dataframe thead th {\n",
              "        text-align: right;\n",
              "    }\n",
              "</style>\n",
              "<table border=\"1\" class=\"dataframe\">\n",
              "  <thead>\n",
              "    <tr style=\"text-align: right;\">\n",
              "      <th></th>\n",
              "      <th>PassengerId</th>\n",
              "      <th>Survived</th>\n",
              "      <th>Pclass</th>\n",
              "      <th>Sex</th>\n",
              "      <th>Age</th>\n",
              "      <th>SibSp</th>\n",
              "      <th>Parch</th>\n",
              "      <th>Ticket</th>\n",
              "      <th>Fare</th>\n",
              "      <th>Cabin</th>\n",
              "      <th>Embarked</th>\n",
              "    </tr>\n",
              "    <tr>\n",
              "      <th>Name</th>\n",
              "      <th></th>\n",
              "      <th></th>\n",
              "      <th></th>\n",
              "      <th></th>\n",
              "      <th></th>\n",
              "      <th></th>\n",
              "      <th></th>\n",
              "      <th></th>\n",
              "      <th></th>\n",
              "      <th></th>\n",
              "      <th></th>\n",
              "    </tr>\n",
              "  </thead>\n",
              "  <tbody>\n",
              "    <tr>\n",
              "      <th>Bonnell, Miss. Elizabeth</th>\n",
              "      <td>12</td>\n",
              "      <td>1</td>\n",
              "      <td>1</td>\n",
              "      <td>female</td>\n",
              "      <td>58.0</td>\n",
              "      <td>0</td>\n",
              "      <td>0</td>\n",
              "      <td>113783</td>\n",
              "      <td>26.550</td>\n",
              "      <td>C103</td>\n",
              "      <td>S</td>\n",
              "    </tr>\n",
              "    <tr>\n",
              "      <th>Saundercock, Mr. William Henry</th>\n",
              "      <td>13</td>\n",
              "      <td>0</td>\n",
              "      <td>3</td>\n",
              "      <td>male</td>\n",
              "      <td>20.0</td>\n",
              "      <td>0</td>\n",
              "      <td>0</td>\n",
              "      <td>A/5. 2151</td>\n",
              "      <td>8.050</td>\n",
              "      <td>NaN</td>\n",
              "      <td>S</td>\n",
              "    </tr>\n",
              "    <tr>\n",
              "      <th>Andersson, Mr. Anders Johan</th>\n",
              "      <td>14</td>\n",
              "      <td>0</td>\n",
              "      <td>3</td>\n",
              "      <td>male</td>\n",
              "      <td>39.0</td>\n",
              "      <td>1</td>\n",
              "      <td>5</td>\n",
              "      <td>347082</td>\n",
              "      <td>31.275</td>\n",
              "      <td>NaN</td>\n",
              "      <td>S</td>\n",
              "    </tr>\n",
              "  </tbody>\n",
              "</table>\n",
              "</div>"
            ],
            "text/plain": [
              "                                PassengerId  Survived  ...  Cabin Embarked\n",
              "Name                                                   ...                \n",
              "Bonnell, Miss. Elizabeth                 12         1  ...   C103        S\n",
              "Saundercock, Mr. William Henry           13         0  ...    NaN        S\n",
              "Andersson, Mr. Anders Johan              14         0  ...    NaN        S\n",
              "\n",
              "[3 rows x 11 columns]"
            ]
          },
          "metadata": {
            "tags": []
          },
          "execution_count": 33
        }
      ]
    },
    {
      "cell_type": "markdown",
      "metadata": {
        "id": "4gbjSZIUEFel"
      },
      "source": [
        "Selecting by position with `iloc` works similar as indexing numpy arrays:"
      ]
    },
    {
      "cell_type": "code",
      "metadata": {
        "id": "Gc5yMapUEFeq"
      },
      "source": [
        "# selecting 1st and second rows, and 2nd and 3rd column from the whole dataset\n",
        "df.iloc[0:2,1:3]"
      ],
      "execution_count": null,
      "outputs": []
    },
    {
      "cell_type": "markdown",
      "metadata": {
        "id": "3jrh2F7KEFeu"
      },
      "source": [
        "The different indexing methods can also be used **to assign data:**"
      ]
    },
    {
      "cell_type": "code",
      "metadata": {
        "id": "iHWnNy5NEFev"
      },
      "source": [
        "df.loc['Braund, Mr. Owen Harris', 'Survived'] = 100"
      ],
      "execution_count": null,
      "outputs": []
    },
    {
      "cell_type": "code",
      "metadata": {
        "id": "TYGFW2XBEFfM"
      },
      "source": [
        "df"
      ],
      "execution_count": null,
      "outputs": []
    },
    {
      "cell_type": "markdown",
      "metadata": {
        "id": "jpQhf6sFEFfN"
      },
      "source": [
        "### Boolean indexing (filtering)"
      ]
    },
    {
      "cell_type": "markdown",
      "metadata": {
        "id": "ZO-HSdkWEFfT"
      },
      "source": [
        "*Often*, you want to select rows based on a certain condition. This can be done with 'boolean indexing' (like a where clause in SQL) and comparable to numpy. \n",
        "\n",
        "The indexer (or boolean mask) should be 1-dimensional and the same length as the thing being indexed."
      ]
    },
    {
      "cell_type": "code",
      "metadata": {
        "run_control": {
          "frozen": false,
          "read_only": false
        },
        "id": "8l2T9HXSEFfW"
      },
      "source": [
        "# checking True and False values\n",
        "df['Fare'] > 50"
      ],
      "execution_count": null,
      "outputs": []
    },
    {
      "cell_type": "code",
      "metadata": {
        "run_control": {
          "frozen": false,
          "read_only": false
        },
        "scrolled": false,
        "id": "_feEQkNWEFfa"
      },
      "source": [
        "# selecting only the True values\n",
        "# that's all the lines where Fare is > 50\n",
        "df[df['Fare'] > 50]"
      ],
      "execution_count": null,
      "outputs": []
    },
    {
      "cell_type": "markdown",
      "metadata": {
        "id": "LxmIBZ5QEFfd"
      },
      "source": [
        "<div class=\"alert alert-success\">\n",
        "\n",
        "<b>EXERCISE</b>:\n",
        "\n",
        " <ul>\n",
        "  <li>Based on the zoo animals data set, select all rows of animals that have more than two legs. </li>\n",
        "</ul>\n",
        "</div>"
      ]
    },
    {
      "cell_type": "code",
      "metadata": {
        "clear_cell": true,
        "id": "l-8h3I79EFfh"
      },
      "source": [
        "#write your code here"
      ],
      "execution_count": null,
      "outputs": []
    },
    {
      "cell_type": "markdown",
      "metadata": {
        "id": "vMZfQnD_EFfr"
      },
      "source": [
        "<div class=\"alert alert-success\">\n",
        "\n",
        "<b>EXERCISE</b>:\n",
        "\n",
        " <ul>\n",
        "  <li>How many animals have more than two legs?</li>\n",
        "</ul>\n",
        "</div>"
      ]
    },
    {
      "cell_type": "code",
      "metadata": {
        "clear_cell": true,
        "id": "_qUnhlUKEFfr"
      },
      "source": [
        "#write your code here"
      ],
      "execution_count": null,
      "outputs": []
    },
    {
      "cell_type": "markdown",
      "metadata": {
        "id": "MbeBeQKbEFgR"
      },
      "source": [
        "*<p style=\"margin-top: 3em; margin-bottom: 2em;\"><b><big><big><big><big>Multi-layer Perceptron Example</big></big></big></big></b></p>\n"
      ]
    },
    {
      "cell_type": "code",
      "metadata": {
        "id": "wVmOk4OLz6zb"
      },
      "source": [
        "from sklearn.neural_network import MLPClassifier\n",
        "\n",
        "clf = MLPClassifier(solver='sgd', alpha=1e-5,  hidden_layer_sizes=(5, 2)) #size of each hidden layer"
      ],
      "execution_count": null,
      "outputs": []
    },
    {
      "cell_type": "markdown",
      "metadata": {
        "id": "4b1vUt0W5QAV"
      },
      "source": [
        ""
      ]
    },
    {
      "cell_type": "code",
      "metadata": {
        "id": "_npPq7FR0Wzl"
      },
      "source": [
        "#Split the data into a training and a testing set\n",
        "train_features = df.iloc[:80,1:-1]\n",
        "test_features = df.iloc[80:,1:-1]\n",
        "train_labels = df.iloc[:80,-1]\n",
        "test_labels = df.iloc[80:,-1]"
      ],
      "execution_count": null,
      "outputs": []
    },
    {
      "cell_type": "code",
      "metadata": {
        "id": "Ox0JN0c43lWr"
      },
      "source": [
        "test_features"
      ],
      "execution_count": null,
      "outputs": []
    },
    {
      "cell_type": "code",
      "metadata": {
        "id": "yPkZd_k-0NSQ"
      },
      "source": [
        "clf.fit(train_features, train_labels)"
      ],
      "execution_count": null,
      "outputs": []
    },
    {
      "cell_type": "code",
      "metadata": {
        "id": "8buzvSOh4Ljd"
      },
      "source": [
        "print(\"The prediction accuracy is: \", clf.score(test_features,test_labels)*100,\"%\")"
      ],
      "execution_count": null,
      "outputs": []
    },
    {
      "cell_type": "code",
      "metadata": {
        "id": "xPHALZon4Teg"
      },
      "source": [
        ""
      ],
      "execution_count": null,
      "outputs": []
    },
    {
      "cell_type": "markdown",
      "metadata": {
        "id": "JrMCehVS4T6c"
      },
      "source": [
        "**Exercise**: Build a perceptron that takes as input the following attributes: hair, airborne, feathers, fins, legs and tail and predicts the type of animal. "
      ]
    }
  ]
}