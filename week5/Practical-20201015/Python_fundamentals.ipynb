{
  "nbformat": 4,
  "nbformat_minor": 0,
  "metadata": {
    "kernelspec": {
      "display_name": "Python 3",
      "language": "python",
      "name": "python3"
    },
    "language_info": {
      "codemirror_mode": {
        "name": "ipython",
        "version": 3
      },
      "file_extension": ".py",
      "mimetype": "text/x-python",
      "name": "python",
      "nbconvert_exporter": "python",
      "pygments_lexer": "ipython3",
      "version": "3.7.4"
    },
    "colab": {
      "name": "Python_fundamentals.ipynb",
      "provenance": [],
      "collapsed_sections": []
    }
  },
  "cells": [
    {
      "cell_type": "markdown",
      "metadata": {
        "id": "ZPIg7az7naZq"
      },
      "source": [
        "#Python Fundamentals Overview\n",
        "\n",
        "- Learn about Jupyter in the online tutorial at https://github.com/aparrish/dmep-python-intro/blob/master/jupyter-notebook-tutorial.ipynb\n",
        "\n",
        "- Learn about how to edit Notebooks (`Markdown` cells) at https://www.markdowntutorial.com/\n",
        "\n",
        "Jupyter Notebook gives you a convenient way to experiment with Python code, interspersing your experiments with notes and documentation. You can do all of this without having to muck about on the command line, and the resulting file can be easily published and shared with other people. \n",
        "\n",
        "We'll be using Jupyter Notebook to introduce Python, show examples and practice with interactive code. \n",
        "\n",
        "## What's in a Notebook?\n",
        "\n",
        "An Jupyter Notebook consists of a number of \"cells,\" stacked on the page from top to bottom. Cells can have text or code in them. You can change a cell's type using the \"Cell\" menu at the top of the page; go to `Cell > Cell Type` and select either `Code` for Python code or `Markdown` for text. (You can also change this for the current cell using the drop-down menu in the toolbar.)\n",
        "\n",
        "## Text cells\n",
        "\n",
        "Make a new cell, change its type to `Markdown`, type some stuff and press `Ctrl-Enter`. Jupyter Notebook will \"render\" the text and display it on the page in rendered format. You can hit `Enter` or click in the cell to edit its contents again. Text in `Markdown` cells is rendered according to a set of conventions called Markdown. Markdown is a simple language for marking up text with basic text formatting information (such as bold, italics, hyperlinks, tables, etc.). [Here's a tutorial](http://markdowntutorial.com/).\n",
        "\n",
        "## Code cells\n",
        "\n",
        "You can also press `Alt-Enter` to render the current cell and create a new cell. New cells will by default be `Code` cells."
      ]
    },
    {
      "cell_type": "code",
      "metadata": {
        "id": "auCWeQiEnaZr",
        "outputId": "c6ddae33-fdc0-4556-d3e8-16242fbcf8ce",
        "colab": {
          "base_uri": "https://localhost:8080/",
          "height": 136
        }
      },
      "source": [
        "print(\"This is a code cell.\")\n",
        "print(\"\")\n",
        "print(\"Any Python code you type in this cell will be run when you press the 'Run' button,\")\n",
        "print(\"or when you press Ctrl-Enter.\")\n",
        "print(\"\")\n",
        "print(\"If the code evaluates to something, or if it produces output, that output will be\")\n",
        "print(\"shown beneath the cell after you run it.\")"
      ],
      "execution_count": 1,
      "outputs": [
        {
          "output_type": "stream",
          "text": [
            "This is a code cell.\n",
            "\n",
            "Any Python code you type in this cell will be run when you press the 'Run' button,\n",
            "or when you press Ctrl-Enter.\n",
            "\n",
            "If the code evaluates to something, or if it produces output, that output will be\n",
            "shown beneath the cell after you run it.\n"
          ],
          "name": "stdout"
        }
      ]
    },
    {
      "cell_type": "code",
      "metadata": {
        "id": "5Cj84h59naZw",
        "outputId": "17528656-83c8-436f-a2cf-30e09c6e133f",
        "colab": {
          "base_uri": "https://localhost:8080/",
          "height": 215
        }
      },
      "source": [
        "print(\"If your Python code generates an error, the error will be displayed in addition to any output already produced.\")\n",
        "\n",
        "1 / 0"
      ],
      "execution_count": 4,
      "outputs": [
        {
          "output_type": "stream",
          "text": [
            "If your Python code generates an error, the error will be displayed in addition to any output already produced.\n"
          ],
          "name": "stdout"
        },
        {
          "output_type": "error",
          "ename": "ZeroDivisionError",
          "evalue": "ignored",
          "traceback": [
            "\u001b[0;31m---------------------------------------------------------------------------\u001b[0m",
            "\u001b[0;31mZeroDivisionError\u001b[0m                         Traceback (most recent call last)",
            "\u001b[0;32m<ipython-input-4-04b9f688d8b6>\u001b[0m in \u001b[0;36m<module>\u001b[0;34m()\u001b[0m\n\u001b[1;32m      1\u001b[0m \u001b[0mprint\u001b[0m\u001b[0;34m(\u001b[0m\u001b[0;34m\"If your Python code generates an error, the error will be displayed in addition to any output already produced.\"\u001b[0m\u001b[0;34m)\u001b[0m\u001b[0;34m\u001b[0m\u001b[0;34m\u001b[0m\u001b[0m\n\u001b[1;32m      2\u001b[0m \u001b[0;34m\u001b[0m\u001b[0m\n\u001b[0;32m----> 3\u001b[0;31m \u001b[0;36m1\u001b[0m \u001b[0;34m/\u001b[0m \u001b[0;36m0\u001b[0m\u001b[0;34m\u001b[0m\u001b[0;34m\u001b[0m\u001b[0m\n\u001b[0m",
            "\u001b[0;31mZeroDivisionError\u001b[0m: division by zero"
          ]
        }
      ]
    },
    {
      "cell_type": "markdown",
      "metadata": {
        "id": "Q7UP74alnaZ0"
      },
      "source": [
        "<hr/>\n",
        "<div class=\"alert alert-success alertsuccess\" style=\"margin-top: 20px\">\n",
        "    [Tip:] <code>print()</code> is a function. You passed the string <code>'Hello, Python!'</code> as an argument to instruct Python on what to print.\n",
        "</div>\n",
        "<hr/>"
      ]
    },
    {
      "cell_type": "markdown",
      "metadata": {
        "id": "iYekxjS1naZ0"
      },
      "source": [
        "## To run all cells\n",
        "\n",
        "In the colab environment, you can run all cells by: \n",
        "\n",
        "`Runtime > Restart & run all`\n"
      ]
    },
    {
      "cell_type": "markdown",
      "metadata": {
        "id": "Xk50oGulnaZ6"
      },
      "source": [
        "## The execution order matters\n",
        "Any variables you define or modules you import in one code cell will be available in subsequent code cells. Start with this:"
      ]
    },
    {
      "cell_type": "code",
      "metadata": {
        "id": "YE_hn66XnaZ6"
      },
      "source": [
        "import random\n",
        "stuff = [\"cheddar\", \"daguerrotype\", \"elephant\", \"flea market\"]"
      ],
      "execution_count": null,
      "outputs": []
    },
    {
      "cell_type": "markdown",
      "metadata": {
        "id": "pqgu5kIknaZ-"
      },
      "source": [
        "... and in subsequent cells you can do this:"
      ]
    },
    {
      "cell_type": "code",
      "metadata": {
        "id": "ZyRVfMm4naZ_"
      },
      "source": [
        "print(random.choice(stuff))"
      ],
      "execution_count": null,
      "outputs": []
    },
    {
      "cell_type": "markdown",
      "metadata": {
        "id": "mPH78UX6naaC"
      },
      "source": [
        "<hr/>\n",
        "<div class=\"alert alert-success alertsuccess\" style=\"margin-top: 20px\">\n",
        "    [Tip:] What happens if we run <code>print(random.choice(stuff))</code> before <code>import random</code>?\n",
        "</div>\n",
        "<hr/>"
      ]
    },
    {
      "cell_type": "markdown",
      "metadata": {
        "id": "tyVjGc8fnaaD"
      },
      "source": [
        "## Keyboard shortcuts\n",
        "\n",
        "As mentioned above, `Ctrl-Enter` runs the current cell; `Alt-Enter` runs the current cell and then creates a new cell. `Enter` will start editing whichever cell is currently selected. To quit editing a cell, hit `Esc`. If the cursor isn't currently active in any cell (i.e., after you've hit `Esc`), a number of other keyboard shortcuts are available to you:\n",
        "\n",
        "* `m` converts the selected cell to a Markdown cell\n",
        "* `b` inserts a new cell below the selected one\n",
        "* `x` \"cuts\" the selected cell; `v` pastes a previously cut cell below the selected cell\n",
        "* `h` brings up a help screen with many more shortcuts.\n",
        "\n",
        "\n",
        "\n"
      ]
    },
    {
      "cell_type": "markdown",
      "metadata": {
        "id": "tGw1fmXanaaD"
      },
      "source": [
        "## Saving your work\n",
        "\n",
        "Hit `Cmd-S` at any time to save your notebook. Jupyter Notebook also automatically saves occasionally. Make sure to give your notebook a descriptive title by clicking on \"Untitled0\" at the top of the page and replacing the text accordingly. Notebooks you save will be available on your server whenever you log in again, from wherever you log into the server.\n",
        "\n",
        "You can \"download\" your notebook in various formats via `File > Download as`. You can download your notebook as a static HTML file (for, e.g., uploading to a web site), or as a `.ipynb` file, which you can share with other people who have Jupyter Notebook or make available online through, e.g., [nbviewer](http://nbviewer.ipython.org/)."
      ]
    },
    {
      "cell_type": "markdown",
      "metadata": {
        "id": "yBDmTpLFnaaE"
      },
      "source": [
        "## Always add comments alongside your code!\n",
        "<p>\n",
        "    In addition to writing code, note that it's always a good idea to add comments to your code. It will help others understand what you were trying to accomplish (the reason why you wrote a given snippet of code). Not only does this help <strong>other people</strong> understand your code, it can also serve as a reminder <strong>to you</strong> when you come back to it weeks or months later.</p>\n",
        "\n",
        "<p>\n",
        "    To write comments in Python, use the number symbol <code>#</code> before writing your comment. When you run your code, Python will ignore everything past the <code>#</code> on a given line.\n",
        "</p>"
      ]
    },
    {
      "cell_type": "code",
      "metadata": {
        "id": "9cLDPNlynaaG"
      },
      "source": [
        "# Practice on writing comments\n",
        "\n",
        "print('Hello, Python!') # This line prints a string\n",
        "# print('Hi')"
      ],
      "execution_count": null,
      "outputs": []
    },
    {
      "cell_type": "markdown",
      "metadata": {
        "id": "jUjvsHjenaaK"
      },
      "source": [
        "<p>\n",
        "    After executing the cell above, you should notice that <code>This line prints a string</code> did not appear in the output, because it was a comment (and thus ignored by Python).\n",
        "</p>\n",
        "<p>\n",
        "    The <code># print('Hi')</code> line was also not executed because it was preceded by the number sign (<code>#</code>) as well! \n",
        "</p>    \n",
        "    The programmer <em>commented out</em> that second line of code. This is very usuful for debugging."
      ]
    },
    {
      "cell_type": "markdown",
      "metadata": {
        "id": "VkiQstJGnaaK"
      },
      "source": [
        "## What about errors?\n",
        "Making mistakes is more common than not! \n",
        "Python will tell you that you have made a mistake by giving you an error message. It is important to read error messages carefully to really understand where you made a mistake and how you may go about correcting it.\n",
        "Let's give it a try!"
      ]
    },
    {
      "cell_type": "code",
      "metadata": {
        "id": "YteCX-CEnaaL",
        "outputId": "1f1e9b8c-5591-4e48-d87a-01fe96c52736",
        "colab": {
          "base_uri": "https://localhost:8080/",
          "height": 198
        }
      },
      "source": [
        "# running with an error\n",
        "\n",
        "frint(\"Hello, Python!\")"
      ],
      "execution_count": 6,
      "outputs": [
        {
          "output_type": "error",
          "ename": "NameError",
          "evalue": "ignored",
          "traceback": [
            "\u001b[0;31m---------------------------------------------------------------------------\u001b[0m",
            "\u001b[0;31mNameError\u001b[0m                                 Traceback (most recent call last)",
            "\u001b[0;32m<ipython-input-6-faf4d92ae715>\u001b[0m in \u001b[0;36m<module>\u001b[0;34m()\u001b[0m\n\u001b[1;32m      1\u001b[0m \u001b[0;31m# running with an error\u001b[0m\u001b[0;34m\u001b[0m\u001b[0;34m\u001b[0m\u001b[0;34m\u001b[0m\u001b[0m\n\u001b[1;32m      2\u001b[0m \u001b[0;34m\u001b[0m\u001b[0m\n\u001b[0;32m----> 3\u001b[0;31m \u001b[0mfrint\u001b[0m\u001b[0;34m(\u001b[0m\u001b[0;34m\"Hello, Python!\"\u001b[0m\u001b[0;34m)\u001b[0m\u001b[0;34m\u001b[0m\u001b[0;34m\u001b[0m\u001b[0m\n\u001b[0m",
            "\u001b[0;31mNameError\u001b[0m: name 'frint' is not defined"
          ]
        }
      ]
    },
    {
      "cell_type": "markdown",
      "metadata": {
        "id": "CbS8vdtvnaaP"
      },
      "source": [
        "<p>The error message tells you: \n",
        "<ol>\n",
        "    <li>where the error occurred (more useful in large notebook cells or scripts), and</li> \n",
        "    <li>what kind of error it was (NameError)</li> \n",
        "</ol>\n",
        "<p>Here, Python attempted to run the function <code>frint</code>, but could not determine what <code>frint</code> was since <code>frint</code> is not a built-in function and it has not been previously defined either.</p>"
      ]
    },
    {
      "cell_type": "markdown",
      "metadata": {
        "id": "FQaDboTEnaaQ"
      },
      "source": [
        "Let's try with a <code>SyntaxError</code>"
      ]
    },
    {
      "cell_type": "code",
      "metadata": {
        "id": "wa2NhrjknaaQ",
        "outputId": "12c8cfeb-1e1f-4a0f-ab82-0a3ad09f592b",
        "colab": {
          "base_uri": "https://localhost:8080/",
          "height": 130
        }
      },
      "source": [
        "# A SyntaxError\n",
        "\n",
        "print(\"Hello, Python!)"
      ],
      "execution_count": 7,
      "outputs": [
        {
          "output_type": "error",
          "ename": "SyntaxError",
          "evalue": "ignored",
          "traceback": [
            "\u001b[0;36m  File \u001b[0;32m\"<ipython-input-7-c4fb547a1248>\"\u001b[0;36m, line \u001b[0;32m3\u001b[0m\n\u001b[0;31m    print(\"Hello, Python!)\u001b[0m\n\u001b[0m                          ^\u001b[0m\n\u001b[0;31mSyntaxError\u001b[0m\u001b[0;31m:\u001b[0m EOL while scanning string literal\n"
          ]
        }
      ]
    },
    {
      "cell_type": "markdown",
      "metadata": {
        "id": "tiL3T5YunaaT"
      },
      "source": [
        "## How are multiple errors caught by the Python interpreter?\n",
        "Let's have a go with some code"
      ]
    },
    {
      "cell_type": "code",
      "metadata": {
        "id": "jc8bcHF9naaU",
        "outputId": "e47c8f5c-3450-499e-ba95-716fe160d3b5",
        "colab": {
          "base_uri": "https://localhost:8080/",
          "height": 232
        }
      },
      "source": [
        "# Trying to print 3 lines (with an error)\n",
        "print(\"The 1st line has been printed\")\n",
        "frint(\"The 2nd line will cause an error\")\n",
        "print(\"what about the 3rd line?\")"
      ],
      "execution_count": 8,
      "outputs": [
        {
          "output_type": "stream",
          "text": [
            "The 1st line has been printed\n"
          ],
          "name": "stdout"
        },
        {
          "output_type": "error",
          "ename": "NameError",
          "evalue": "ignored",
          "traceback": [
            "\u001b[0;31m---------------------------------------------------------------------------\u001b[0m",
            "\u001b[0;31mNameError\u001b[0m                                 Traceback (most recent call last)",
            "\u001b[0;32m<ipython-input-8-9389ae1021ce>\u001b[0m in \u001b[0;36m<module>\u001b[0;34m()\u001b[0m\n\u001b[1;32m      1\u001b[0m \u001b[0;31m# Trying to print 3 lines (with an error)\u001b[0m\u001b[0;34m\u001b[0m\u001b[0;34m\u001b[0m\u001b[0;34m\u001b[0m\u001b[0m\n\u001b[1;32m      2\u001b[0m \u001b[0mprint\u001b[0m\u001b[0;34m(\u001b[0m\u001b[0;34m\"The 1st line has been printed\"\u001b[0m\u001b[0;34m)\u001b[0m\u001b[0;34m\u001b[0m\u001b[0;34m\u001b[0m\u001b[0m\n\u001b[0;32m----> 3\u001b[0;31m \u001b[0mfrint\u001b[0m\u001b[0;34m(\u001b[0m\u001b[0;34m\"The 2nd line will cause an error\"\u001b[0m\u001b[0;34m)\u001b[0m\u001b[0;34m\u001b[0m\u001b[0;34m\u001b[0m\u001b[0m\n\u001b[0m\u001b[1;32m      4\u001b[0m \u001b[0mprint\u001b[0m\u001b[0;34m(\u001b[0m\u001b[0;34m\"what about the 3rd line?\"\u001b[0m\u001b[0;34m)\u001b[0m\u001b[0;34m\u001b[0m\u001b[0;34m\u001b[0m\u001b[0m\n",
            "\u001b[0;31mNameError\u001b[0m: name 'frint' is not defined"
          ]
        }
      ]
    },
    {
      "cell_type": "markdown",
      "metadata": {
        "id": "pGMZIhignaaX"
      },
      "source": [
        "Don't forget that Python is an <em>interpreted language</em>. \n",
        "<em>Compiled</em> languages (like C or C++) examine your entire program at compile time, and are able to warn you about a whole class of errors prior to execution. In contrast, Python interprets your script line-by-line (as it executes it). Python will stop executing the entire program <em>as soon as</em> it encounters an error.\n"
      ]
    },
    {
      "cell_type": "markdown",
      "metadata": {
        "id": "sC56R6LfnaaX"
      },
      "source": [
        "<hr/>\n",
        "<div class=\"alert alert-success alertsuccess\" style=\"margin-top: 20px\">\n",
        "    [Tip:] Programmers can also <em>handle</em> errors appropriately (for instance when they expect them to occur). In that case, errors are caught and the interpreter won't stop (stay tuned for this more advanced topic later on in the course).\n",
        "</div>\n",
        "<hr/>"
      ]
    }
  ]
}