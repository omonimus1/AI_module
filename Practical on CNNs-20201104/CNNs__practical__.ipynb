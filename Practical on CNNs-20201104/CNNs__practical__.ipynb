{
  "nbformat": 4,
  "nbformat_minor": 0,
  "metadata": {
    "colab": {
      "name": "CNNs__practical_v2 (1).ipynb",
      "provenance": [],
      "collapsed_sections": []
    },
    "kernelspec": {
      "display_name": "Python 3",
      "language": "python",
      "name": "python3"
    },
    "language_info": {
      "codemirror_mode": {
        "name": "ipython",
        "version": 3
      },
      "file_extension": ".py",
      "mimetype": "text/x-python",
      "name": "python",
      "nbconvert_exporter": "python",
      "pygments_lexer": "ipython3",
      "version": "3.6.8"
    }
  },
  "cells": [
    {
      "cell_type": "markdown",
      "metadata": {
        "id": "V48ECprW5xiT"
      },
      "source": [
        "# Practical on Convolutional Neural Networks\n",
        "\n",
        "During this practical you will learn how to develop and train a convolutional neural network for recognising hand-written digits provided by the MNIST dataset (you can read more here:https://en.wikipedia.org/wiki/MNIST_database), using the keras library: https://keras.io/ \n"
      ]
    },
    {
      "cell_type": "code",
      "metadata": {
        "id": "4yh5do0r5xiV"
      },
      "source": [
        "#import libraries\n",
        "from keras.datasets import mnist\n",
        "from keras.models import Sequential\n",
        "from keras.layers import Dense\n",
        "from keras.layers import Dropout\n",
        "from keras.layers import Flatten\n",
        "from keras.layers.convolutional import Conv2D\n",
        "from keras.layers.convolutional import MaxPooling2D\n",
        "from keras.utils import np_utils\n",
        "\n",
        "#The dataset can be downloaded and loaded through the keras library as follows:\n",
        "#(the first time might take longer because the dataset will be downloaded first)\n",
        "(X_train, y_train), (X_test, y_test) = mnist.load_data()"
      ],
      "execution_count": null,
      "outputs": []
    },
    {
      "cell_type": "markdown",
      "metadata": {
        "id": "Tb9agOsW5xia"
      },
      "source": [
        "### Visualise the data \n",
        "\n",
        "To view the four first examples of the dataset, we will you matplotlib. The command %matplotlib inline tells your jupyter notebook to show the image, if you forget it the images won't show on your browser. \n",
        "\n",
        "The cryptic arguments (2,2,1), (2,2,2), (2,2,3), and (2,2,4) below correspond to top left, top right, bottom left and bottom right. "
      ]
    },
    {
      "cell_type": "code",
      "metadata": {
        "id": "hKaEq_Ap5xib",
        "outputId": "b2841442-d9e2-4789-86ee-d4963c9812f0",
        "colab": {
          "base_uri": "https://localhost:8080/",
          "height": 268
        }
      },
      "source": [
        "import matplotlib.pyplot as plt\n",
        "%matplotlib inline\n",
        "\n",
        "plt.subplot(2,2,1)\n",
        "plt.imshow(X_train[0], cmap=plt.get_cmap('gray'))\n",
        "plt.subplot(2,2,2)\n",
        "plt.imshow(X_train[1], cmap=plt.get_cmap('gray'))\n",
        "plt.subplot(2,2,3)\n",
        "plt.imshow(X_train[2], cmap=plt.get_cmap('gray'))\n",
        "plt.subplot(2,2,4)\n",
        "plt.imshow(X_train[3], cmap=plt.get_cmap('gray'))\n",
        "\n",
        "#show the plot\n",
        "plt.show()"
      ],
      "execution_count": null,
      "outputs": [
        {
          "output_type": "display_data",
          "data": {
            "image/png": "[encoded data removed]",
            "text/plain": [
              "<Figure size 432x288 with 4 Axes>"
            ]
          },
          "metadata": {
            "tags": [],
            "needs_background": "light"
          }
        }
      ]
    },
    {
      "cell_type": "markdown",
      "metadata": {
        "id": "KWjCpL9p5xif"
      },
      "source": [
        "# 1. Data preprocessing\n",
        "\n",
        "After we load the MNIST dataset, we will need to reshape it so that it is suitable for training a CNN. \n",
        "In Keras, the layers used for two-dimensional convolutions expect pixel values with the follwong dimensions:\n",
        "\n",
        "[samples,width,height,channels]\n",
        "\n",
        "Note that because the MNIST data is in grey scale, we only have one channel, i.e the channel dimension is 1. If we had RGB images, the channels would have a value of 3, and it would be like having 3 image inputs for every color image."
      ]
    },
    {
      "cell_type": "code",
      "metadata": {
        "id": "Hhy3etw45xih"
      },
      "source": [
        "X_train = X_train.reshape((X_train.shape[0], 28, 28, 1)).astype('float32')\n",
        "X_test = X_test.reshape((X_test.shape[0], 28, 28, 1)).astype('float32')"
      ],
      "execution_count": null,
      "outputs": []
    },
    {
      "cell_type": "markdown",
      "metadata": {
        "id": "nO5FhMhv5xin"
      },
      "source": [
        "### Scaling \n",
        "\n",
        "For grayscale images, the pixel values are between 0 and 255. When using neural networks, it is common practice to scale rhe input values by dividing each value by the maximum of 255, so they can take values between 0-1 (so they are more similar). This process is called normalisation. "
      ]
    },
    {
      "cell_type": "code",
      "metadata": {
        "id": "3q3_gRg75xin"
      },
      "source": [
        "X_train = X_train / 255\n",
        "X_test = X_test / 255"
      ],
      "execution_count": null,
      "outputs": []
    },
    {
      "cell_type": "markdown",
      "metadata": {
        "id": "J-BHn7Jj5xir"
      },
      "source": [
        "### Encoding of outputs\n",
        "\n",
        "Finally, the output variable is an integer from 0 to 9. This is a multi-class classification problem (as opposed to binary that we only predict between two classes). Therefore, we will encode the outputs using one-hot encoding as follows: \n",
        "\n",
        "Digit 0 ---> [0,0,0,0,0,0,0,0,0]<br>\n",
        "Digit 1 ---> [1.0,0,0,0,0,0,0,0]<br>\n",
        "Digit 2 ---> [0,1,0,0,0,0,0,0,0]<br>\n",
        "...<br>\n",
        "Digit 9 ---> [0,0,0,0,0,0,0,0,1]"
      ]
    },
    {
      "cell_type": "code",
      "metadata": {
        "id": "wsCKWxHD5xis"
      },
      "source": [
        "# one-hot encoding for outputs\n",
        "y_train = np_utils.to_categorical(y_train)\n",
        "y_test = np_utils.to_categorical(y_test)\n",
        "num_classes = y_test.shape[1]"
      ],
      "execution_count": null,
      "outputs": []
    },
    {
      "cell_type": "markdown",
      "metadata": {
        "id": "eFK87Lip5xiw"
      },
      "source": [
        "# 2. Defining a CNN model\n",
        "\n",
        "The function below defines a sequential model (this is how keras defines a CNN). Our models has aconvolutional layer, with a filter 5x5, and ReLU as an activation function (you can define more arguments, see here: https://keras.io/layers/convolutional/). \n",
        "\n",
        "The CNN also includes a maxpooling layer with strides 2x2, a dropout layer (randomly sets a fraction rate of input units to 0 at each update during training time, which helps prevent overfitting) and two fully-connected layers (which are denoted as Dense in keras).\n",
        "\n",
        "The model will be trained by using stochastic gradients descent (\"sgd\"), and it will use MSE as a loss function. "
      ]
    },
    {
      "cell_type": "code",
      "metadata": {
        "id": "4WTUtZsL5xiw"
      },
      "source": [
        "def cnn_model():\n",
        "    model = Sequential()\n",
        "    model.add(Conv2D(32, (5, 5), input_shape=(28, 28, 1), activation='relu'))\n",
        "    model.add(MaxPooling2D(strides=(2, 2)))\n",
        "    model.add(Dropout(0.2))\n",
        "    model.add(Flatten())\n",
        "    model.add(Dense(128, activation='relu'))\n",
        "    model.add(Dense(num_classes, activation='softmax'))\n",
        "    #Compile/train model\n",
        "    model.compile(loss='mean_squared_error', optimizer='sgd', metrics=['accuracy'])\n",
        "    return model\n"
      ],
      "execution_count": null,
      "outputs": []
    },
    {
      "cell_type": "code",
      "metadata": {
        "id": "2fVuBOIh5xi5",
        "outputId": "1fc66987-d8ba-43ad-cea9-b53e92de0deb",
        "colab": {
          "base_uri": "https://localhost:8080/",
          "height": 493
        }
      },
      "source": [
        "#define the model\n",
        "model = cnn_model()\n",
        "model.summary()\n",
        "#train the model\n",
        "training = model.fit(X_train, y_train, validation_data=(X_test, y_test), epochs=3, batch_size=200)\n",
        "#Evaluation of the model\n",
        "scores = model.evaluate(X_test, y_test, verbose=0)\n",
        "print(\"CNN Accuracy: %.2f%%\" % (scores[1]*100))"
      ],
      "execution_count": null,
      "outputs": [
        {
          "output_type": "stream",
          "text": [
            "Model: \"sequential_1\"\n",
            "_________________________________________________________________\n",
            "Layer (type)                 Output Shape              Param #   \n",
            "=================================================================\n",
            "conv2d_1 (Conv2D)            (None, 24, 24, 32)        832       \n",
            "_________________________________________________________________\n",
            "max_pooling2d_1 (MaxPooling2 (None, 12, 12, 32)        0         \n",
            "_________________________________________________________________\n",
            "dropout_1 (Dropout)          (None, 12, 12, 32)        0         \n",
            "_________________________________________________________________\n",
            "flatten_1 (Flatten)          (None, 4608)              0         \n",
            "_________________________________________________________________\n",
            "dense_1 (Dense)              (None, 128)               589952    \n",
            "_________________________________________________________________\n",
            "dense_2 (Dense)              (None, 10)                1290      \n",
            "=================================================================\n",
            "Total params: 592,074\n",
            "Trainable params: 592,074\n",
            "Non-trainable params: 0\n",
            "_________________________________________________________________\n",
            "Train on 60000 samples, validate on 10000 samples\n",
            "Epoch 1/3\n",
            "60000/60000 [==============================] - 28s 464us/step - loss: 0.0900 - accuracy: 0.1032 - val_loss: 0.0898 - val_accuracy: 0.1267\n",
            "Epoch 2/3\n",
            "60000/60000 [==============================] - 27s 454us/step - loss: 0.0895 - accuracy: 0.1486 - val_loss: 0.0893 - val_accuracy: 0.1902\n",
            "Epoch 3/3\n",
            "60000/60000 [==============================] - 27s 455us/step - loss: 0.0891 - accuracy: 0.1955 - val_loss: 0.0887 - val_accuracy: 0.2445\n",
            "CNN Accuracy: 24.45%\n"
          ],
          "name": "stdout"
        }
      ]
    },
    {
      "cell_type": "markdown",
      "metadata": {
        "id": "BYuOeeoC9lLt"
      },
      "source": [
        "### Recap\n",
        "\n",
        "- A training set is the set of instances used to train the model, as we discussed in previous units. Based on this data, the models learns its weights. \n",
        "- A validation set is a set of data (different data than this in the training set) which is used during training to validate our model. The validation set gives us information and help us adjust the hyperparameters. It is not used for direct training. Note that the loss calculated for the validation set is not backpropagated. The validation set helps us know that the model is not overfitting. \n",
        "- A test set is the set of data used for evaluation after the model has been trained as we saw in previous units. This data includes different instances to the training and validation set. "
      ]
    },
    {
      "cell_type": "markdown",
      "metadata": {
        "id": "YUY3HkUqWXqT"
      },
      "source": [
        "### Exercise 1: \n",
        "\n",
        "Check the keras documentation here https://keras.io/api/losses/ regarding losses. Which loss function is appropriate for multi-class clasiffication? Ammend the network above to include your chosen loss function. "
      ]
    },
    {
      "cell_type": "markdown",
      "metadata": {
        "id": "252lE9qy5xi9"
      },
      "source": [
        "### Exercise 2: \n",
        "\n",
        "A. Define a new function \"deep_cnn_model\", that includes three convolutional layers, with maxpooling in between them. So the resultant model should have the following layers: conv2d, maxpooling, conv2d, maxpooling, conv2d, maxpooling, dropout, flatten, (one or more) fully connected layers.  <br>\n",
        "B. Evaluate your model as above. Which of the two models is more accurate? <br>\n",
        "C. Finally, try changing the loss function, the optimizer, strides, epochs etc. (check keras documentation for examples). Does your model perform better? "
      ]
    },
    {
      "cell_type": "code",
      "metadata": {
        "id": "u-sSklBe5xi-"
      },
      "source": [
        "\n"
      ],
      "execution_count": null,
      "outputs": []
    },
    {
      "cell_type": "markdown",
      "metadata": {
        "id": "TIc7bbe36h0s"
      },
      "source": [
        "### Exercise 3: \n",
        "Train the model created in Exercise 1 by including a vaildation dataset which is **different** to the test set. For instance, use 10% of the training set as validation set. \n",
        "\n",
        "Hint: You can do this in keras by using the validation_split function as an argument in the fit function: validation_split = 0.1 \n"
      ]
    },
    {
      "cell_type": "code",
      "metadata": {
        "id": "nt_ZpSEe5xjH"
      },
      "source": [
        ""
      ],
      "execution_count": null,
      "outputs": []
    },
    {
      "cell_type": "markdown",
      "metadata": {
        "id": "xTWCiT_JWufU"
      },
      "source": [
        ""
      ]
    },
    {
      "cell_type": "markdown",
      "metadata": {
        "id": "yiYva0Cp7tG3"
      },
      "source": [
        "### Exercise 4:\n",
        "\n",
        "Use early stopping while training, instead of manually choosing the number of epochs. What do you observe? \n",
        "\n",
        "Hint: https://keras.io/api/callbacks/early_stopping/ "
      ]
    },
    {
      "cell_type": "code",
      "metadata": {
        "id": "YdpvGQe08E1c"
      },
      "source": [
        ""
      ],
      "execution_count": null,
      "outputs": []
    },
    {
      "cell_type": "markdown",
      "metadata": {
        "id": "gReYxhNF-BH-"
      },
      "source": [
        "### Exercise 5: \n",
        "\n",
        "How would you calculate precision, recall and f-score? Note that Keras does not offer built-in functions for these metrics. "
      ]
    },
    {
      "cell_type": "markdown",
      "metadata": {
        "id": "TSJvlgIoGy1D"
      },
      "source": [
        "Answer: "
      ]
    }
  ]
}